{
  "nbformat": 4,
  "nbformat_minor": 0,
  "metadata": {
    "accelerator": "GPU",
    "colab": {
      "provenance": [],
      "machine_shape": "hm",
      "gpuType": "A100"
    },
    "kernelspec": {
      "display_name": "Python 3",
      "name": "python3"
    },
    "widgets": {
      "application/vnd.jupyter.widget-state+json": {
        "703ecc39d68146109a6a683ae97e7afe": {
          "model_module": "@jupyter-widgets/controls",
          "model_name": "HBoxModel",
          "model_module_version": "1.5.0",
          "state": {
            "_dom_classes": [],
            "_model_module": "@jupyter-widgets/controls",
            "_model_module_version": "1.5.0",
            "_model_name": "HBoxModel",
            "_view_count": null,
            "_view_module": "@jupyter-widgets/controls",
            "_view_module_version": "1.5.0",
            "_view_name": "HBoxView",
            "box_style": "",
            "children": [
              "IPY_MODEL_959e9546dbf14c6da56258673630fa9b",
              "IPY_MODEL_b5294d87052d44beb59876b01068fcdd"
            ],
            "layout": "IPY_MODEL_74378490ace449359412404e5788638b"
          }
        },
        "959e9546dbf14c6da56258673630fa9b": {
          "model_module": "@jupyter-widgets/controls",
          "model_name": "FloatProgressModel",
          "model_module_version": "1.5.0",
          "state": {
            "_dom_classes": [],
            "_model_module": "@jupyter-widgets/controls",
            "_model_module_version": "1.5.0",
            "_model_name": "FloatProgressModel",
            "_view_count": null,
            "_view_module": "@jupyter-widgets/controls",
            "_view_module_version": "1.5.0",
            "_view_name": "ProgressView",
            "bar_style": "success",
            "description": "100%",
            "description_tooltip": null,
            "layout": "IPY_MODEL_6c4e98d3b72f4536a2e4baa554245323",
            "max": 335,
            "min": 0,
            "orientation": "horizontal",
            "style": "IPY_MODEL_bc320dcf87804fcbbac261bf2fc80f22",
            "value": 335
          }
        },
        "b5294d87052d44beb59876b01068fcdd": {
          "model_module": "@jupyter-widgets/controls",
          "model_name": "HTMLModel",
          "model_module_version": "1.5.0",
          "state": {
            "_dom_classes": [],
            "_model_module": "@jupyter-widgets/controls",
            "_model_module_version": "1.5.0",
            "_model_name": "HTMLModel",
            "_view_count": null,
            "_view_module": "@jupyter-widgets/controls",
            "_view_module_version": "1.5.0",
            "_view_name": "HTMLView",
            "description": "",
            "description_tooltip": null,
            "layout": "IPY_MODEL_d2c2908c2cd146eb92f00aa3a1f88f5e",
            "placeholder": "​",
            "style": "IPY_MODEL_967428c1079f4216a2ada68a67838536",
            "value": " 335/335 [03:30&lt;00:00,  1.59it/s]"
          }
        },
        "74378490ace449359412404e5788638b": {
          "model_module": "@jupyter-widgets/base",
          "model_name": "LayoutModel",
          "model_module_version": "1.2.0",
          "state": {
            "_model_module": "@jupyter-widgets/base",
            "_model_module_version": "1.2.0",
            "_model_name": "LayoutModel",
            "_view_count": null,
            "_view_module": "@jupyter-widgets/base",
            "_view_module_version": "1.2.0",
            "_view_name": "LayoutView",
            "align_content": null,
            "align_items": null,
            "align_self": null,
            "border": null,
            "bottom": null,
            "display": null,
            "flex": null,
            "flex_flow": null,
            "grid_area": null,
            "grid_auto_columns": null,
            "grid_auto_flow": null,
            "grid_auto_rows": null,
            "grid_column": null,
            "grid_gap": null,
            "grid_row": null,
            "grid_template_areas": null,
            "grid_template_columns": null,
            "grid_template_rows": null,
            "height": null,
            "justify_content": null,
            "justify_items": null,
            "left": null,
            "margin": null,
            "max_height": null,
            "max_width": null,
            "min_height": null,
            "min_width": null,
            "object_fit": null,
            "object_position": null,
            "order": null,
            "overflow": null,
            "overflow_x": null,
            "overflow_y": null,
            "padding": null,
            "right": null,
            "top": null,
            "visibility": null,
            "width": null
          }
        },
        "6c4e98d3b72f4536a2e4baa554245323": {
          "model_module": "@jupyter-widgets/base",
          "model_name": "LayoutModel",
          "model_module_version": "1.2.0",
          "state": {
            "_model_module": "@jupyter-widgets/base",
            "_model_module_version": "1.2.0",
            "_model_name": "LayoutModel",
            "_view_count": null,
            "_view_module": "@jupyter-widgets/base",
            "_view_module_version": "1.2.0",
            "_view_name": "LayoutView",
            "align_content": null,
            "align_items": null,
            "align_self": null,
            "border": null,
            "bottom": null,
            "display": null,
            "flex": null,
            "flex_flow": null,
            "grid_area": null,
            "grid_auto_columns": null,
            "grid_auto_flow": null,
            "grid_auto_rows": null,
            "grid_column": null,
            "grid_gap": null,
            "grid_row": null,
            "grid_template_areas": null,
            "grid_template_columns": null,
            "grid_template_rows": null,
            "height": null,
            "justify_content": null,
            "justify_items": null,
            "left": null,
            "margin": null,
            "max_height": null,
            "max_width": null,
            "min_height": null,
            "min_width": null,
            "object_fit": null,
            "object_position": null,
            "order": null,
            "overflow": null,
            "overflow_x": null,
            "overflow_y": null,
            "padding": null,
            "right": null,
            "top": null,
            "visibility": null,
            "width": null
          }
        },
        "bc320dcf87804fcbbac261bf2fc80f22": {
          "model_module": "@jupyter-widgets/controls",
          "model_name": "ProgressStyleModel",
          "model_module_version": "1.5.0",
          "state": {
            "_model_module": "@jupyter-widgets/controls",
            "_model_module_version": "1.5.0",
            "_model_name": "ProgressStyleModel",
            "_view_count": null,
            "_view_module": "@jupyter-widgets/base",
            "_view_module_version": "1.2.0",
            "_view_name": "StyleView",
            "bar_color": null,
            "description_width": "initial"
          }
        },
        "d2c2908c2cd146eb92f00aa3a1f88f5e": {
          "model_module": "@jupyter-widgets/base",
          "model_name": "LayoutModel",
          "model_module_version": "1.2.0",
          "state": {
            "_model_module": "@jupyter-widgets/base",
            "_model_module_version": "1.2.0",
            "_model_name": "LayoutModel",
            "_view_count": null,
            "_view_module": "@jupyter-widgets/base",
            "_view_module_version": "1.2.0",
            "_view_name": "LayoutView",
            "align_content": null,
            "align_items": null,
            "align_self": null,
            "border": null,
            "bottom": null,
            "display": null,
            "flex": null,
            "flex_flow": null,
            "grid_area": null,
            "grid_auto_columns": null,
            "grid_auto_flow": null,
            "grid_auto_rows": null,
            "grid_column": null,
            "grid_gap": null,
            "grid_row": null,
            "grid_template_areas": null,
            "grid_template_columns": null,
            "grid_template_rows": null,
            "height": null,
            "justify_content": null,
            "justify_items": null,
            "left": null,
            "margin": null,
            "max_height": null,
            "max_width": null,
            "min_height": null,
            "min_width": null,
            "object_fit": null,
            "object_position": null,
            "order": null,
            "overflow": null,
            "overflow_x": null,
            "overflow_y": null,
            "padding": null,
            "right": null,
            "top": null,
            "visibility": null,
            "width": null
          }
        },
        "967428c1079f4216a2ada68a67838536": {
          "model_module": "@jupyter-widgets/controls",
          "model_name": "DescriptionStyleModel",
          "model_module_version": "1.5.0",
          "state": {
            "_model_module": "@jupyter-widgets/controls",
            "_model_module_version": "1.5.0",
            "_model_name": "DescriptionStyleModel",
            "_view_count": null,
            "_view_module": "@jupyter-widgets/base",
            "_view_module_version": "1.2.0",
            "_view_name": "StyleView",
            "description_width": ""
          }
        }
      }
    }
  },
  "cells": [
    {
      "cell_type": "code",
      "metadata": {
        "id": "t0RPTJmpZDrT",
        "colab": {
          "base_uri": "https://localhost:8080/"
        },
        "outputId": "fd764828-3f3c-4772-c814-cdaf674710d3"
      },
      "source": [
        "# PyTorch 套件 (深度學習核心)\n",
        "import torch\n",
        "import torch.nn as nn\n",
        "import torch.nn.functional as F\n",
        "import torch.optim as optim\n",
        "from torch.utils.data import Dataset, DataLoader, random_split\n",
        "import torchvision.transforms as transforms\n",
        "from torchvision.transforms import Resize\n",
        "from torchsummary import summary  # 模型結構摘要\n",
        "\n",
        "# 資料處理與數學運算\n",
        "import pandas as pd\n",
        "import numpy as np\n",
        "import math\n",
        "import random\n",
        "from pathlib import Path\n",
        "from scipy.spatial.distance import directed_hausdorff\n",
        "import sys\n",
        "\n",
        "# 影像處理相關套件\n",
        "import imageio.v2 as imageio\n",
        "from skimage.io import imread, imshow\n",
        "from skimage.transform import rescale\n",
        "import cv2 as cv\n",
        "\n",
        "# 繪圖與顯示\n",
        "import matplotlib.pyplot as plt\n",
        "from tqdm import tqdm  # 進度條\n",
        "from IPython.core.debugger import set_trace  # 除錯工具\n",
        "\n",
        "# Google Colab 相關 (若非在 Colab 執行，可刪除)\n",
        "try:\n",
        "    from google.colab import drive\n",
        "    from google.colab.patches import cv2_imshow  # 顯示 OpenCV 影像 (Colab)\n",
        "    drive.mount('/content/drive')\n",
        "except ImportError:\n",
        "    cv2_imshow = cv.imshow  # 非 Colab 則使用 OpenCV 標準顯示函數"
      ],
      "execution_count": null,
      "outputs": [
        {
          "output_type": "stream",
          "name": "stdout",
          "text": [
            "Drive already mounted at /content/drive; to attempt to forcibly remount, call drive.mount(\"/content/drive\", force_remount=True).\n"
          ]
        }
      ]
    },
    {
      "cell_type": "code",
      "metadata": {
        "id": "W7gPRcwYNXf6"
      },
      "source": [
        "class FetalHCDataset(Dataset):\n",
        "    def __init__(self, dataset_dir, img_scale = None, train = True, transform = True):\n",
        "        dataset_dir = Path(dataset_dir) # 'drive/My Drive/HC_Dataset'\n",
        "        self.img_scale = img_scale\n",
        "        self.transform  = transform\n",
        "        if train == True:\n",
        "            self.data_details_frame = pd.read_csv(dataset_dir / 'trainset' / 'trainset.csv')\n",
        "            self.imgs_dir =  dataset_dir / 'trainset' / 'imgs'\n",
        "            self.masks_dir = dataset_dir / 'trainset' / 'masks'\n",
        "        else:\n",
        "            self.data_details_frame = pd.read_csv(dataset_dir / 'testset' / 'testset.csv')\n",
        "            self.imgs_dir =  dataset_dir / 'testset' / 'imgs'\n",
        "            self.masks_dir = dataset_dir / 'testset' / 'masks'\n",
        "\n",
        "    def __len__(self):\n",
        "        return len(self.data_details_frame)\n",
        "\n",
        "    def __getitem__(self, idx):\n",
        "        img_file = self.imgs_dir / self.data_details_frame.iloc[idx, 0]\n",
        "        img = imread(img_file)\n",
        "\n",
        "        mask_file = self.masks_dir / f'{img_file.stem}_Annotation.png'\n",
        "        mask = imread(mask_file)\n",
        "\n",
        "        img_details = self.data_details_frame.iloc[idx, 1:3]\n",
        "        img_details = img_details.values.astype(np.float32) #series to numpy\n",
        "\n",
        "        ellipse_parameters = self.data_details_frame.iloc[idx, 3:]\n",
        "        ellipse_parameters = ellipse_parameters.values.astype(np.float32)\n",
        "\n",
        "        sample = {'img' : img,\n",
        "                       'mask' : mask,\n",
        "                       'img_details': img_details,\n",
        "                       'ellipse_parameters' : ellipse_parameters\n",
        "                  }\n",
        "\n",
        "        if self.transform == True:\n",
        "            sample = self.trans(sample)\n",
        "\n",
        "        return sample\n",
        "\n",
        "    def trans(self, sample):\n",
        "        if self.img_scale: #rescale會把255 -> 1\n",
        "            sample['img']   = rescale(sample['img'], scale=(self.img_scale, self.img_scale))\n",
        "            sample['mask'] = rescale(sample['mask'], scale=(self.img_scale, self.img_scale))\n",
        "        '''HW 轉 CHW 再轉乘 tensor'''\n",
        "        sample['img']           = torch.from_numpy(sample['img'][np.newaxis, :])\n",
        "        sample['mask']         = torch.from_numpy(sample['mask'][np.newaxis, :])\n",
        "        sample['img_details'] = torch.from_numpy(sample['img_details'])\n",
        "        '''正規化橢圓參數[0, 1]'''\n",
        "        sample['ellipse_parameters'][0] = (sample['ellipse_parameters'][0]/800)\n",
        "        sample['ellipse_parameters'][1] = (sample['ellipse_parameters'][1]/540)\n",
        "        sample['ellipse_parameters'][2] = (sample['ellipse_parameters'][2]/800)\n",
        "        sample['ellipse_parameters'][3] = (sample['ellipse_parameters'][3]/540)\n",
        "        sample['ellipse_parameters'][4] = (sample['ellipse_parameters'][4]/3.14)\n",
        "        sample['ellipse_parameters'] = torch.from_numpy(sample['ellipse_parameters'])\n",
        "\n",
        "        return sample"
      ],
      "execution_count": null,
      "outputs": []
    },
    {
      "cell_type": "code",
      "metadata": {
        "colab": {
          "base_uri": "https://localhost:8080/",
          "height": 795
        },
        "id": "Dc7XiaWuVU3q",
        "outputId": "556cc3f8-3ab0-447e-add5-fb3e31718bdc"
      },
      "source": [
        "'''第幾row的資料'''\n",
        "i = 0\n",
        "\n",
        "'''測試資料是否正常顯示'''\n",
        "trainset = FetalHCDataset('drive/My Drive/HC_Dataset', img_scale = 0.5, train = True, transform = True)\n",
        "data = trainset[i]\n",
        "'''pd 讀取'''\n",
        "data_frame = pd.read_csv('drive/My Drive/HC_Dataset/trainset/trainset.csv')\n",
        "print(data_frame.iloc[i])\n",
        "\n",
        "print('\\n')\n",
        "''''dataloader還原'''\n",
        "print(data['img_details'])\n",
        "print(data['ellipse_parameters'][0]*800)\n",
        "print(data['ellipse_parameters'][1]*540)\n",
        "print(data['ellipse_parameters'][2]*800)\n",
        "print(data['ellipse_parameters'][3]*540)\n",
        "print(data['ellipse_parameters'][4]*3.14)\n",
        "\n",
        "pixel_size = data['img_details'][0]\n",
        "a = data['ellipse_parameters'][2]*800\n",
        "b = data['ellipse_parameters'][3]*540\n",
        "\n",
        "HC = math.sqrt((math.pow(a*pixel_size, 2) + math.pow(b*pixel_size, 2))/2) * 2 * np.pi\n",
        "print(f'ellipse fitting: {HC:.3f}')\n",
        "\n",
        "img = data['img'].squeeze().numpy()\n",
        "mask = data['mask'].squeeze().numpy()\n",
        "plt.rcParams['figure.figsize'] = [12, 8]\n",
        "plt.subplot(1,2,1), imshow(img)\n",
        "plt.title('image')\n",
        "plt.subplot(1,2,2), imshow(mask)\n",
        "plt.title('mask')\n",
        "plt.show()"
      ],
      "execution_count": null,
      "outputs": [
        {
          "output_type": "stream",
          "name": "stdout",
          "text": [
            "filename          000_HC.png\n",
            "center_x_mm        93.899184\n",
            "center_y_mm        66.609172\n",
            "semi_axes_a_mm      54.60078\n",
            "semi_axes_b_mm     39.444728\n",
            "angle_rad            3.07701\n",
            "Name: 0, dtype: object\n",
            "\n",
            "\n",
            "tensor([ 0.0691, 44.3000])\n",
            "tensor(409.4313)\n",
            "tensor(377.7873)\n",
            "tensor(187.8440)\n",
            "tensor(223.8851)\n",
            "tensor(23.7063)\n",
            "ellipse fitting: 89.768\n"
          ]
        },
        {
          "output_type": "stream",
          "name": "stderr",
          "text": [
            "<ipython-input-38-0a0ae63863a0>:30: FutureWarning: `imshow` is deprecated since version 0.25 and will be removed in version 0.27. Please use `matplotlib`, `napari`, etc. to visualize images.\n",
            "  plt.subplot(1,2,1), imshow(img)\n",
            "<ipython-input-38-0a0ae63863a0>:32: FutureWarning: `imshow` is deprecated since version 0.25 and will be removed in version 0.27. Please use `matplotlib`, `napari`, etc. to visualize images.\n",
            "  plt.subplot(1,2,2), imshow(mask)\n"
          ]
        },
        {
          "output_type": "display_data",
          "data": {
            "text/plain": [
              "<Figure size 1200x800 with 2 Axes>"
            ],
            "image/png": "[encoded data removed]"
          },
          "metadata": {}
        }
      ]
    },
    {
      "cell_type": "code",
      "metadata": {
        "id": "ZQmstm--cKt6"
      },
      "source": [
        "import torch\n",
        "import torch.nn as nn\n",
        "import torch.nn.functional as F\n",
        "\n",
        "class unetConv2(nn.Module):\n",
        "    def __init__(self, in_size, out_size, is_batchnorm, n=2, ks=3, stride=1, padding=1, dropout_p=0.3):\n",
        "        super().__init__()\n",
        "        self.n = n #重複做幾次conv+BN+RELU\n",
        "        self.ks = ks #kernel size default:3x3\n",
        "        self.dropout = nn.Dropout2d(p=dropout_p)\n",
        "        if is_batchnorm:\n",
        "            for i in range(1, n + 1):\n",
        "                conv = nn.Sequential(nn.Conv2d(in_size, out_size, ks, stride, padding),\n",
        "                                     nn.BatchNorm2d(out_size),\n",
        "                                     nn.ReLU(inplace=True), )\n",
        "                setattr(self, 'conv%d' % i, conv)\n",
        "                in_size = out_size\n",
        "\n",
        "        else:\n",
        "            for i in range(1, n + 1):\n",
        "                conv = nn.Sequential(nn.Conv2d(in_size, out_size, ks, stride, padding),\n",
        "                                     nn.ReLU(inplace=True), )\n",
        "                setattr(self, 'conv%d' % i, conv)\n",
        "                in_size = out_size\n",
        "\n",
        "\n",
        "    def forward(self, inputs):\n",
        "        x = inputs\n",
        "        for i in range(1, self.n + 1):\n",
        "            conv = getattr(self, 'conv%d' % i)\n",
        "            x = conv(x)\n",
        "            x = self.dropout(x)\n",
        "\n",
        "        return x"
      ],
      "execution_count": null,
      "outputs": []
    },
    {
      "cell_type": "code",
      "metadata": {
        "id": "6-avDjk3cb8_"
      },
      "source": [
        "import torch\n",
        "import torch.nn as nn\n",
        "import torch.nn.functional as F\n",
        "\n",
        "class UNet(nn.Module):\n",
        "    def __init__(self, n_channels=1, n_classes=1, is_batchnorm=True):\n",
        "        super(UNet, self).__init__()\n",
        "        self.n_channels = n_channels\n",
        "        self.n_classes = n_classes\n",
        "        self.is_batchnorm = is_batchnorm\n",
        "        filters = [32, 64, 128, 256, 512]\n",
        "\n",
        "        # downsampling\n",
        "        self.conv1 = unetConv2(self.n_channels, filters[0], self.is_batchnorm)\n",
        "        self.maxpool = nn.MaxPool2d(kernel_size=2)\n",
        "\n",
        "        self.conv2 = unetConv2(filters[0], filters[1], self.is_batchnorm)\n",
        "\n",
        "        self.conv3 = unetConv2(filters[1], filters[2], self.is_batchnorm)\n",
        "\n",
        "        self.conv4 = unetConv2(filters[2], filters[3], self.is_batchnorm)\n",
        "\n",
        "        self.conv5 = unetConv2(filters[3], filters[4], self.is_batchnorm)\n",
        "\n",
        "        # upsampling\n",
        "        self.up_4 = unetConv2(filters[4]+filters[3], filters[3], self.is_batchnorm)\n",
        "        self.up_3 = unetConv2(filters[3]+filters[2], filters[2], self.is_batchnorm)\n",
        "        self.up_2 = unetConv2(filters[2]+filters[1], filters[1], self.is_batchnorm)\n",
        "        self.up_1 = unetConv2(filters[1]+filters[0], filters[0], self.is_batchnorm)\n",
        "        self.outconv1 = nn.Conv2d(filters[0], 1, 3, padding=1)\n",
        "\n",
        "    def forward(self, inputs):\n",
        "\n",
        "        def samesize(targetsize, *xtuple):\n",
        "            outputx = []\n",
        "            outputx.append(targetsize)\n",
        "            for x in xtuple:\n",
        "                outputx.append(F.interpolate(x, targetsize.shape[2:], mode = 'bilinear', align_corners = True))\n",
        "            return tuple(outputx)\n",
        "\n",
        "        h1 = self.conv1(inputs)  #64*270*400\n",
        "       # self.featuremap1 = h1.detach() # 查看第1層特徵圖前10張輸出樣貌\n",
        "\n",
        "        h2 = self.conv2(self.maxpool(h1)) #128*135*200\n",
        "      #  self.featuremap2 = h2.detach() # 查看第2層特徵圖輸出樣貌\n",
        "\n",
        "        h3 = self.conv3(self.maxpool(h2))  #256*67*100\n",
        "      #  self.featuremap3 = h3.detach() # 查看第3層特徵圖輸出樣貌\n",
        "\n",
        "        h4 = self.conv4(self.maxpool(h3))  #512*33*50\n",
        "       # self.featuremap4 = h4.detach() # 查看第4層特徵圖輸出樣貌\n",
        "\n",
        "        h5 = self.conv5(self.maxpool(h4))  #1024*16*25\n",
        "        # self.featuremap5 = h5.detach() # 查看第5層特徵圖輸出樣貌\n",
        "\n",
        "        hd4 = self.up_4(torch.cat(samesize(h4, h5), 1))  # 512*33*50\n",
        "        hd3 = self.up_3(torch.cat(samesize(h3, hd4), 1))  # 256*67*100\n",
        "        hd2 = self.up_2(torch.cat(samesize(h2, hd3), 1))  # 128*135*200\n",
        "        hd1 = self.up_1(torch.cat(samesize(h1, hd2), 1))  # 64*270*400\n",
        "\n",
        "        d1 = self.outconv1(hd1)  # 256\n",
        "        return d1"
      ],
      "execution_count": null,
      "outputs": []
    },
    {
      "cell_type": "code",
      "metadata": {
        "colab": {
          "base_uri": "https://localhost:8080/"
        },
        "id": "XsFS0mt0cUT9",
        "outputId": "1c5d752f-007e-4a41-e1cc-3c65def21d66"
      },
      "source": [
        "net = UNet()\n",
        "device = torch.device('cuda' if torch.cuda.is_available() else 'cpu')\n",
        "net.to(device)\n",
        "summary(net, input_size=(1, 200, 135)) # CHW\n",
        "# 270 135  67 33"
      ],
      "execution_count": null,
      "outputs": [
        {
          "output_type": "stream",
          "name": "stdout",
          "text": [
            "----------------------------------------------------------------\n",
            "        Layer (type)               Output Shape         Param #\n",
            "================================================================\n",
            "            Conv2d-1         [-1, 32, 200, 135]             320\n",
            "       BatchNorm2d-2         [-1, 32, 200, 135]              64\n",
            "              ReLU-3         [-1, 32, 200, 135]               0\n",
            "         Dropout2d-4         [-1, 32, 200, 135]               0\n",
            "            Conv2d-5         [-1, 32, 200, 135]           9,248\n",
            "       BatchNorm2d-6         [-1, 32, 200, 135]              64\n",
            "              ReLU-7         [-1, 32, 200, 135]               0\n",
            "         Dropout2d-8         [-1, 32, 200, 135]               0\n",
            "         unetConv2-9         [-1, 32, 200, 135]               0\n",
            "        MaxPool2d-10          [-1, 32, 100, 67]               0\n",
            "           Conv2d-11          [-1, 64, 100, 67]          18,496\n",
            "      BatchNorm2d-12          [-1, 64, 100, 67]             128\n",
            "             ReLU-13          [-1, 64, 100, 67]               0\n",
            "        Dropout2d-14          [-1, 64, 100, 67]               0\n",
            "           Conv2d-15          [-1, 64, 100, 67]          36,928\n",
            "      BatchNorm2d-16          [-1, 64, 100, 67]             128\n",
            "             ReLU-17          [-1, 64, 100, 67]               0\n",
            "        Dropout2d-18          [-1, 64, 100, 67]               0\n",
            "        unetConv2-19          [-1, 64, 100, 67]               0\n",
            "        MaxPool2d-20           [-1, 64, 50, 33]               0\n",
            "           Conv2d-21          [-1, 128, 50, 33]          73,856\n",
            "      BatchNorm2d-22          [-1, 128, 50, 33]             256\n",
            "             ReLU-23          [-1, 128, 50, 33]               0\n",
            "        Dropout2d-24          [-1, 128, 50, 33]               0\n",
            "           Conv2d-25          [-1, 128, 50, 33]         147,584\n",
            "      BatchNorm2d-26          [-1, 128, 50, 33]             256\n",
            "             ReLU-27          [-1, 128, 50, 33]               0\n",
            "        Dropout2d-28          [-1, 128, 50, 33]               0\n",
            "        unetConv2-29          [-1, 128, 50, 33]               0\n",
            "        MaxPool2d-30          [-1, 128, 25, 16]               0\n",
            "           Conv2d-31          [-1, 256, 25, 16]         295,168\n",
            "      BatchNorm2d-32          [-1, 256, 25, 16]             512\n",
            "             ReLU-33          [-1, 256, 25, 16]               0\n",
            "        Dropout2d-34          [-1, 256, 25, 16]               0\n",
            "           Conv2d-35          [-1, 256, 25, 16]         590,080\n",
            "      BatchNorm2d-36          [-1, 256, 25, 16]             512\n",
            "             ReLU-37          [-1, 256, 25, 16]               0\n",
            "        Dropout2d-38          [-1, 256, 25, 16]               0\n",
            "        unetConv2-39          [-1, 256, 25, 16]               0\n",
            "        MaxPool2d-40           [-1, 256, 12, 8]               0\n",
            "           Conv2d-41           [-1, 512, 12, 8]       1,180,160\n",
            "      BatchNorm2d-42           [-1, 512, 12, 8]           1,024\n",
            "             ReLU-43           [-1, 512, 12, 8]               0\n",
            "        Dropout2d-44           [-1, 512, 12, 8]               0\n",
            "           Conv2d-45           [-1, 512, 12, 8]       2,359,808\n",
            "      BatchNorm2d-46           [-1, 512, 12, 8]           1,024\n",
            "             ReLU-47           [-1, 512, 12, 8]               0\n",
            "        Dropout2d-48           [-1, 512, 12, 8]               0\n",
            "        unetConv2-49           [-1, 512, 12, 8]               0\n",
            "           Conv2d-50          [-1, 256, 25, 16]       1,769,728\n",
            "      BatchNorm2d-51          [-1, 256, 25, 16]             512\n",
            "             ReLU-52          [-1, 256, 25, 16]               0\n",
            "        Dropout2d-53          [-1, 256, 25, 16]               0\n",
            "           Conv2d-54          [-1, 256, 25, 16]         590,080\n",
            "      BatchNorm2d-55          [-1, 256, 25, 16]             512\n",
            "             ReLU-56          [-1, 256, 25, 16]               0\n",
            "        Dropout2d-57          [-1, 256, 25, 16]               0\n",
            "        unetConv2-58          [-1, 256, 25, 16]               0\n",
            "           Conv2d-59          [-1, 128, 50, 33]         442,496\n",
            "      BatchNorm2d-60          [-1, 128, 50, 33]             256\n",
            "             ReLU-61          [-1, 128, 50, 33]               0\n",
            "        Dropout2d-62          [-1, 128, 50, 33]               0\n",
            "           Conv2d-63          [-1, 128, 50, 33]         147,584\n",
            "      BatchNorm2d-64          [-1, 128, 50, 33]             256\n",
            "             ReLU-65          [-1, 128, 50, 33]               0\n",
            "        Dropout2d-66          [-1, 128, 50, 33]               0\n",
            "        unetConv2-67          [-1, 128, 50, 33]               0\n",
            "           Conv2d-68          [-1, 64, 100, 67]         110,656\n",
            "      BatchNorm2d-69          [-1, 64, 100, 67]             128\n",
            "             ReLU-70          [-1, 64, 100, 67]               0\n",
            "        Dropout2d-71          [-1, 64, 100, 67]               0\n",
            "           Conv2d-72          [-1, 64, 100, 67]          36,928\n",
            "      BatchNorm2d-73          [-1, 64, 100, 67]             128\n",
            "             ReLU-74          [-1, 64, 100, 67]               0\n",
            "        Dropout2d-75          [-1, 64, 100, 67]               0\n",
            "        unetConv2-76          [-1, 64, 100, 67]               0\n",
            "           Conv2d-77         [-1, 32, 200, 135]          27,680\n",
            "      BatchNorm2d-78         [-1, 32, 200, 135]              64\n",
            "             ReLU-79         [-1, 32, 200, 135]               0\n",
            "        Dropout2d-80         [-1, 32, 200, 135]               0\n",
            "           Conv2d-81         [-1, 32, 200, 135]           9,248\n",
            "      BatchNorm2d-82         [-1, 32, 200, 135]              64\n",
            "             ReLU-83         [-1, 32, 200, 135]               0\n",
            "        Dropout2d-84         [-1, 32, 200, 135]               0\n",
            "        unetConv2-85         [-1, 32, 200, 135]               0\n",
            "           Conv2d-86          [-1, 1, 200, 135]             289\n",
            "================================================================\n",
            "Total params: 7,852,225\n",
            "Trainable params: 7,852,225\n",
            "Non-trainable params: 0\n",
            "----------------------------------------------------------------\n",
            "Input size (MB): 0.10\n",
            "Forward/backward pass size (MB): 227.21\n",
            "Params size (MB): 29.95\n",
            "Estimated Total Size (MB): 257.26\n",
            "----------------------------------------------------------------\n"
          ]
        }
      ]
    },
    {
      "cell_type": "code",
      "metadata": {
        "id": "scB1UMdSltt_"
      },
      "source": [
        "'''訓練途中看看模型的效能如何'''\n",
        "def eval_net(net, loader, device):\n",
        "    net.eval()\n",
        "\n",
        "    n_val = len(loader)  # the number of batch\n",
        "\n",
        "    tot_bce_loss = 0\n",
        "    bce_criterion = nn.BCEWithLogitsLoss()\n",
        "\n",
        "    with tqdm(total=n_val, desc='正在評估(Test Data)', unit='batch', leave = False) as pbar:\n",
        "        for batch in loader:\n",
        "            imgs, true_masks = batch['img'], batch['mask']\n",
        "            imgs = imgs.to(device=device, dtype=torch.float32)\n",
        "            true_masks = true_masks.to(device=device, dtype=torch.float32)\n",
        "\n",
        "            with torch.no_grad():\n",
        "                pred_masks = net(imgs)\n",
        "\n",
        "                '''計算BCE loss'''\n",
        "                bce_loss = bce_criterion(pred_masks, true_masks).item()\n",
        "                tot_bce_loss += bce_loss\n",
        "\n",
        "                pbar.set_postfix(**{'bce loss (batch)': bce_loss})\n",
        "                pbar.update()\n",
        "\n",
        "    net.train()\n",
        "    return tot_bce_loss / n_val"
      ],
      "execution_count": null,
      "outputs": []
    },
    {
      "cell_type": "markdown",
      "metadata": {
        "id": "eeOrikOWOMeH"
      },
      "source": [
        "**開始訓練**\n",
        "\n",
        "\n",
        "---\n",
        "\n"
      ]
    },
    {
      "cell_type": "code",
      "metadata": {
        "colab": {
          "base_uri": "https://localhost:8080/",
          "height": 1000
        },
        "id": "QOs2mhtqlVmH",
        "outputId": "ac5952c2-8190-4d94-867a-69c84706bea5"
      },
      "source": [
        "dir_checkpoint  = 'drive/My Drive/Colab Notebooks/HC_Dataset/Unet_checkpoints'\n",
        "HC_Dataset_dir = 'drive/My Drive/Colab Notebooks/HC_Dataset'\n",
        "\n",
        "def train_net(net, device, epochs=20, batch_size=8, lr=0.0001, save_cp=True, img_scale=0.5):\n",
        "\n",
        "    trainset = FetalHCDataset(HC_Dataset_dir, img_scale = img_scale ,train = True,  transform = True)\n",
        "    testset =  FetalHCDataset(HC_Dataset_dir, img_scale = img_scale ,train = False, transform = True)\n",
        "    trainloader = DataLoader(trainset, batch_size=batch_size, shuffle=True, num_workers=2, pin_memory=True)\n",
        "    testloader =  DataLoader(testset, batch_size=batch_size, shuffle=False, num_workers=2, pin_memory=True, drop_last=True)\n",
        "\n",
        "    n_val = len(testset)\n",
        "    n_train = len(trainset)\n",
        "\n",
        "    print(f\"\\nStarting training:\\n \\\n",
        "        Epochs:          {epochs}\\n \\\n",
        "        Batch size:      {batch_size}\\n \\\n",
        "        Learning rate:   {lr}\\n \\\n",
        "        Training size:   {n_train}\\n \\\n",
        "        Validation size: {n_val}\\n \\\n",
        "        Checkpoints:     {save_cp}\\n \\\n",
        "        Device:          {device.type}\\n \\\n",
        "        Images scaling:  {img_scale}\\n \\\n",
        "    \")\n",
        "\n",
        "    net.to(device)\n",
        "    optimizer = optim.Adam(net.parameters(), lr=lr)\n",
        "    criterion = nn.BCEWithLogitsLoss()\n",
        "    global_step = 0\n",
        "\n",
        "    for epoch in range(epochs):\n",
        "        net.train()\n",
        "        with tqdm(total=n_train, desc=f'Epoch {epoch + 1}/{epochs}', unit='img') as pbar:\n",
        "            for batch in trainloader:\n",
        "                imgs = batch['img']\n",
        "                true_masks = batch['mask']\n",
        "\n",
        "                imgs = imgs.to(device=device, dtype=torch.float32)\n",
        "                true_masks = true_masks.to(device=device, dtype=torch.float32)\n",
        "\n",
        "                pred_masks = net(imgs)\n",
        "                loss =  criterion(pred_masks, true_masks)\n",
        "\n",
        "                pbar.set_postfix(**{'loss (batch)': loss.item()})\n",
        "                optimizer.zero_grad()\n",
        "                loss.backward()\n",
        "                optimizer.step()\n",
        "                pbar.update(imgs.shape[0])\n",
        "\n",
        "                global_step += 1\n",
        "                if global_step % (n_train // (batch_size * 10)) == 0:\n",
        "                    val_score = eval_net(net, testloader, device)\n",
        "                    print(f\"---current learning rate : {optimizer.param_groups[0]['lr']}\")\n",
        "                    print(f'BCE loss  : {val_score[1]:.6f}\\n')\n",
        "        if save_cp:\n",
        "                if not Path(dir_checkpoint).exists():\n",
        "                    Path(dir_checkpoint).mkdir(exist_ok=True)\n",
        "                    print('Created checkpoint directory')\n",
        "\n",
        "                torch.save(net.state_dict(), dir_checkpoint + f'/CP_epoch{epoch + 1}.pth')\n",
        "                print(f'Checkpoint {epoch + 1} saved !')\n",
        "\n",
        "\n",
        "device = torch.device('cuda' if torch.cuda.is_available() else 'cpu')\n",
        "net = UNet()\n",
        "\n",
        "train_net(net = net, device = device, epochs= 40, img_scale= 0.25, batch_size=8, lr=0.001)\n"
      ],
      "execution_count": null,
      "outputs": [
        {
          "output_type": "stream",
          "name": "stdout",
          "text": [
            "\n",
            "Starting training:\n",
            "         Epochs:          40\n",
            "         Batch size:      8\n",
            "         Learning rate:   0.001\n",
            "         Training size:   799\n",
            "         Validation size: 200\n",
            "         Checkpoints:     True\n",
            "         Device:          cuda\n",
            "         Images scaling:  0.25\n",
            "     \n"
          ]
        },
        {
          "output_type": "stream",
          "name": "stderr",
          "text": [
            "Epoch 1/40:   9%|▉         | 72/799 [00:21<03:34,  3.40img/s, loss (batch)=-129]\n",
            "正在評估(Test Data):   0%|          | 0/25 [00:00<?, ?batch/s]\u001b[A\n",
            "正在評估(Test Data):   0%|          | 0/25 [00:05<?, ?batch/s, bce loss (batch)=-7.78]\u001b[A\n",
            "正在評估(Test Data):   4%|▍         | 1/25 [00:05<02:05,  5.24s/batch, bce loss (batch)=-7.78]\u001b[A\n",
            "正在評估(Test Data):   4%|▍         | 1/25 [00:05<02:05,  5.24s/batch, bce loss (batch)=-9.56]\u001b[A\n",
            "正在評估(Test Data):   8%|▊         | 2/25 [00:05<00:54,  2.38s/batch, bce loss (batch)=-9.56]\u001b[A\n",
            "正在評估(Test Data):   8%|▊         | 2/25 [00:09<00:54,  2.38s/batch, bce loss (batch)=-6.67]\u001b[A\n",
            "正在評估(Test Data):  12%|█▏        | 3/25 [00:09<01:12,  3.29s/batch, bce loss (batch)=-6.67]\u001b[A\n",
            "正在評估(Test Data):  12%|█▏        | 3/25 [00:09<01:12,  3.29s/batch, bce loss (batch)=-15.8]\u001b[A\n",
            "正在評估(Test Data):  16%|█▌        | 4/25 [00:13<01:08,  3.29s/batch, bce loss (batch)=-16.5]\u001b[A\n",
            "正在評估(Test Data):  20%|██        | 5/25 [00:13<00:49,  2.50s/batch, bce loss (batch)=-16.5]\u001b[A\n",
            "正在評估(Test Data):  20%|██        | 5/25 [00:13<00:49,  2.50s/batch, bce loss (batch)=-16.4]\u001b[A\n",
            "正在評估(Test Data):  24%|██▍       | 6/25 [00:18<00:47,  2.50s/batch, bce loss (batch)=-16]  \u001b[A\n",
            "正在評估(Test Data):  28%|██▊       | 7/25 [00:18<00:43,  2.44s/batch, bce loss (batch)=-16]\u001b[A\n",
            "正在評估(Test Data):  28%|██▊       | 7/25 [00:18<00:43,  2.44s/batch, bce loss (batch)=-8.5]\u001b[A\n",
            "正在評估(Test Data):  32%|███▏      | 8/25 [00:22<00:41,  2.44s/batch, bce loss (batch)=-13.5]\u001b[A\n",
            "正在評估(Test Data):  36%|███▌      | 9/25 [00:22<00:35,  2.21s/batch, bce loss (batch)=-13.5]\u001b[A\n",
            "正在評估(Test Data):  36%|███▌      | 9/25 [00:22<00:35,  2.21s/batch, bce loss (batch)=-16.8]\u001b[A\n",
            "正在評估(Test Data):  40%|████      | 10/25 [00:26<00:33,  2.21s/batch, bce loss (batch)=-17.4]\u001b[A\n",
            "正在評估(Test Data):  44%|████▍     | 11/25 [00:26<00:30,  2.17s/batch, bce loss (batch)=-17.4]\u001b[A\n",
            "正在評估(Test Data):  44%|████▍     | 11/25 [00:26<00:30,  2.17s/batch, bce loss (batch)=-15.5]\u001b[A\n",
            "正在評估(Test Data):  48%|████▊     | 12/25 [00:30<00:28,  2.17s/batch, bce loss (batch)=-15.5]\u001b[A\n",
            "正在評估(Test Data):  52%|█████▏    | 13/25 [00:30<00:25,  2.10s/batch, bce loss (batch)=-15.5]\u001b[A\n",
            "正在評估(Test Data):  52%|█████▏    | 13/25 [00:30<00:25,  2.10s/batch, bce loss (batch)=-12.8]\u001b[A\n",
            "正在評估(Test Data):  56%|█████▌    | 14/25 [00:34<00:23,  2.10s/batch, bce loss (batch)=-16.7]\u001b[A\n",
            "正在評估(Test Data):  60%|██████    | 15/25 [00:34<00:20,  2.09s/batch, bce loss (batch)=-16.7]\u001b[A\n",
            "正在評估(Test Data):  60%|██████    | 15/25 [00:34<00:20,  2.09s/batch, bce loss (batch)=-20.8]\u001b[A\n",
            "正在評估(Test Data):  64%|██████▍   | 16/25 [00:38<00:18,  2.09s/batch, bce loss (batch)=-14.6]\u001b[A\n",
            "正在評估(Test Data):  68%|██████▊   | 17/25 [00:38<00:16,  2.06s/batch, bce loss (batch)=-14.6]\u001b[A\n",
            "正在評估(Test Data):  68%|██████▊   | 17/25 [00:38<00:16,  2.06s/batch, bce loss (batch)=-20.1]\u001b[A\n",
            "正在評估(Test Data):  72%|███████▏  | 18/25 [00:42<00:14,  2.06s/batch, bce loss (batch)=-14.1]\u001b[A\n",
            "正在評估(Test Data):  76%|███████▌  | 19/25 [00:42<00:12,  2.05s/batch, bce loss (batch)=-14.1]\u001b[A\n",
            "正在評估(Test Data):  76%|███████▌  | 19/25 [00:42<00:12,  2.05s/batch, bce loss (batch)=-12.7]\u001b[A\n",
            "正在評估(Test Data):  80%|████████  | 20/25 [00:47<00:10,  2.05s/batch, bce loss (batch)=-7.37]\u001b[A\n",
            "正在評估(Test Data):  84%|████████▍ | 21/25 [00:47<00:08,  2.12s/batch, bce loss (batch)=-7.37]\u001b[A\n",
            "正在評估(Test Data):  84%|████████▍ | 21/25 [00:47<00:08,  2.12s/batch, bce loss (batch)=-6.44]\u001b[A\n",
            "正在評估(Test Data):  88%|████████▊ | 22/25 [00:51<00:06,  2.12s/batch, bce loss (batch)=-4.34]\u001b[A\n",
            "正在評估(Test Data):  92%|█████████▏| 23/25 [00:51<00:04,  2.18s/batch, bce loss (batch)=-4.34]\u001b[A\n",
            "正在評估(Test Data):  92%|█████████▏| 23/25 [00:51<00:04,  2.18s/batch, bce loss (batch)=-6.22]\u001b[A\n",
            "正在評估(Test Data):  96%|█████████▌| 24/25 [00:56<00:02,  2.18s/batch, bce loss (batch)=2.03] \u001b[A\n",
            "正在評估(Test Data): 100%|██████████| 25/25 [00:56<00:00,  2.18s/batch, bce loss (batch)=2.03]\u001b[A\n",
            "Epoch 1/40:   9%|▉         | 72/799 [01:17<13:05,  1.08s/img, loss (batch)=-129]"
          ]
        },
        {
          "output_type": "stream",
          "name": "stdout",
          "text": [
            "---current learning rate : 0.001\n"
          ]
        },
        {
          "output_type": "stream",
          "name": "stderr",
          "text": [
            "\n"
          ]
        },
        {
          "output_type": "error",
          "ename": "TypeError",
          "evalue": "'float' object is not subscriptable",
          "traceback": [
            "\u001b[0;31m---------------------------------------------------------------------------\u001b[0m",
            "\u001b[0;31mTypeError\u001b[0m                                 Traceback (most recent call last)",
            "\u001b[0;32m<ipython-input-44-81beb3a832a5>\u001b[0m in \u001b[0;36m<cell line: 0>\u001b[0;34m()\u001b[0m\n\u001b[1;32m     64\u001b[0m \u001b[0mnet\u001b[0m \u001b[0;34m=\u001b[0m \u001b[0mUNet\u001b[0m\u001b[0;34m(\u001b[0m\u001b[0;34m)\u001b[0m\u001b[0;34m\u001b[0m\u001b[0;34m\u001b[0m\u001b[0m\n\u001b[1;32m     65\u001b[0m \u001b[0;34m\u001b[0m\u001b[0m\n\u001b[0;32m---> 66\u001b[0;31m \u001b[0mtrain_net\u001b[0m\u001b[0;34m(\u001b[0m\u001b[0mnet\u001b[0m \u001b[0;34m=\u001b[0m \u001b[0mnet\u001b[0m\u001b[0;34m,\u001b[0m \u001b[0mdevice\u001b[0m \u001b[0;34m=\u001b[0m \u001b[0mdevice\u001b[0m\u001b[0;34m,\u001b[0m \u001b[0mepochs\u001b[0m\u001b[0;34m=\u001b[0m \u001b[0;36m40\u001b[0m\u001b[0;34m,\u001b[0m \u001b[0mimg_scale\u001b[0m\u001b[0;34m=\u001b[0m \u001b[0;36m0.25\u001b[0m\u001b[0;34m,\u001b[0m \u001b[0mbatch_size\u001b[0m\u001b[0;34m=\u001b[0m\u001b[0;36m8\u001b[0m\u001b[0;34m,\u001b[0m \u001b[0mlr\u001b[0m\u001b[0;34m=\u001b[0m\u001b[0;36m0.001\u001b[0m\u001b[0;34m)\u001b[0m\u001b[0;34m\u001b[0m\u001b[0;34m\u001b[0m\u001b[0m\n\u001b[0m",
            "\u001b[0;32m<ipython-input-44-81beb3a832a5>\u001b[0m in \u001b[0;36mtrain_net\u001b[0;34m(net, device, epochs, batch_size, lr, save_cp, img_scale)\u001b[0m\n\u001b[1;32m     51\u001b[0m                     \u001b[0mval_score\u001b[0m \u001b[0;34m=\u001b[0m \u001b[0meval_net\u001b[0m\u001b[0;34m(\u001b[0m\u001b[0mnet\u001b[0m\u001b[0;34m,\u001b[0m \u001b[0mtestloader\u001b[0m\u001b[0;34m,\u001b[0m \u001b[0mdevice\u001b[0m\u001b[0;34m)\u001b[0m\u001b[0;34m\u001b[0m\u001b[0;34m\u001b[0m\u001b[0m\n\u001b[1;32m     52\u001b[0m                     \u001b[0mprint\u001b[0m\u001b[0;34m(\u001b[0m\u001b[0;34mf\"---current learning rate : {optimizer.param_groups[0]['lr']}\"\u001b[0m\u001b[0;34m)\u001b[0m\u001b[0;34m\u001b[0m\u001b[0;34m\u001b[0m\u001b[0m\n\u001b[0;32m---> 53\u001b[0;31m                     \u001b[0mprint\u001b[0m\u001b[0;34m(\u001b[0m\u001b[0;34mf'BCE loss  : {val_score[1]:.6f}\\n'\u001b[0m\u001b[0;34m)\u001b[0m\u001b[0;34m\u001b[0m\u001b[0;34m\u001b[0m\u001b[0m\n\u001b[0m\u001b[1;32m     54\u001b[0m         \u001b[0;32mif\u001b[0m \u001b[0msave_cp\u001b[0m\u001b[0;34m:\u001b[0m\u001b[0;34m\u001b[0m\u001b[0;34m\u001b[0m\u001b[0m\n\u001b[1;32m     55\u001b[0m                 \u001b[0;32mif\u001b[0m \u001b[0;32mnot\u001b[0m \u001b[0mPath\u001b[0m\u001b[0;34m(\u001b[0m\u001b[0mdir_checkpoint\u001b[0m\u001b[0;34m)\u001b[0m\u001b[0;34m.\u001b[0m\u001b[0mexists\u001b[0m\u001b[0;34m(\u001b[0m\u001b[0;34m)\u001b[0m\u001b[0;34m:\u001b[0m\u001b[0;34m\u001b[0m\u001b[0;34m\u001b[0m\u001b[0m\n",
            "\u001b[0;31mTypeError\u001b[0m: 'float' object is not subscriptable"
          ]
        }
      ]
    },
    {
      "cell_type": "markdown",
      "metadata": {
        "id": "WGOIiOWOOA-w"
      },
      "source": [
        "**定義函數**\n",
        "\n",
        "\n",
        "---\n",
        "\n"
      ]
    },
    {
      "cell_type": "code",
      "metadata": {
        "id": "d-iIHBWdGuj2"
      },
      "source": [
        "dir_checkpoint  = 'drive/My Drive/HC_Dataset/Unet_checkpoints'\n",
        "HC_Dataset_dir = 'drive/My Drive/HC_Dataset'\n",
        "\n",
        "epoch = '40'\n",
        "def dicecoeff(input, target):\n",
        "    iflat = input.view(-1)\n",
        "    tflat = target.view(-1)\n",
        "    intersection = (iflat * tflat).sum()\n",
        "\n",
        "    return ((2. * intersection ) / (iflat.sum() + tflat.sum()))\n",
        "\n",
        "def predict(img,  device):\n",
        "    net = UNet()\n",
        "    net.load_state_dict(torch.load(dir_checkpoint + f'/CP_epoch{epoch}.pth'))\n",
        "    net.to(device)\n",
        "\n",
        "    net.eval()\n",
        "    img = torch.from_numpy(img[np.newaxis, :])\n",
        "    img = img.unsqueeze(0)\n",
        "    img = img.to(device=device, dtype=torch.float32)\n",
        "    with torch.no_grad():\n",
        "        predicted = net(img)\n",
        "        outputs = []\n",
        "        probs = torch.sigmoid(predicted).squeeze().cpu().numpy()\n",
        "    return probs>0.5"
      ],
      "execution_count": null,
      "outputs": []
    },
    {
      "cell_type": "markdown",
      "metadata": {
        "id": "lxxFcwEqFimy"
      },
      "source": [
        "**資料測試**\n",
        "\n",
        "\n",
        "---\n",
        "\n"
      ]
    },
    {
      "cell_type": "code",
      "metadata": {
        "id": "Bqhgc0g5aIfB",
        "colab": {
          "base_uri": "https://localhost:8080/",
          "height": 326
        },
        "outputId": "817cd0cc-d48d-434d-8315-79281b5e89bc"
      },
      "source": [
        "''''testset 資料測試'''\n",
        "\n",
        "test_num = 100\n",
        "\n",
        "%matplotlib inline\n",
        "import matplotlib.pyplot as plt\n",
        "plt.style.use('seaborn-white')\n",
        "\n",
        "testset = FetalHCDataset(HC_Dataset_dir , img_scale = 0.25, train = False, transform = True)\n",
        "data = testset[test_num]\n",
        "\n",
        "img = data['img'].squeeze().numpy()\n",
        "mask = data['mask'].squeeze().numpy()\n",
        "\n",
        "plt.rcParams['figure.figsize'] = [12, 8]\n",
        "plt.subplot(1,2,1), imshow(img)\n",
        "plt.title('image')\n",
        "plt.subplot(1,2,2), imshow(mask)\n",
        "plt.title('target')\n",
        "plt.show()"
      ],
      "execution_count": null,
      "outputs": [
        {
          "output_type": "display_data",
          "data": {
            "image/png": "[encoded data removed]",
            "text/plain": [
              "<Figure size 864x576 with 2 Axes>"
            ]
          },
          "metadata": {}
        }
      ]
    },
    {
      "cell_type": "markdown",
      "metadata": {
        "id": "7Ar8V7GvFnY2"
      },
      "source": [
        "**模型預測輸出**\n",
        "\n",
        "---\n",
        "\n"
      ]
    },
    {
      "cell_type": "code",
      "metadata": {
        "id": "uYCQeU50wrKM",
        "colab": {
          "base_uri": "https://localhost:8080/",
          "height": 598
        },
        "outputId": "c5078326-0245-491b-bf82-ec0feb6b1d77"
      },
      "source": [
        "device = torch.device('cuda' if torch.cuda.is_available() else 'cpu')\n",
        "predicted = predict(img, device)\n",
        "\n",
        "'''神經網路輸出結果'''\n",
        "imshow(predicted)\n",
        "dice_score = dicecoeff(torch.from_numpy(predicted), torch.from_numpy(mask)) * 100\n",
        "\n",
        "plt.title(f'dce : {dice_score:.2f}')\n",
        "plt.show()"
      ],
      "execution_count": null,
      "outputs": [
        {
          "output_type": "display_data",
          "data": {
            "image/png": "[encoded data removed]",
            "text/plain": [
              "<Figure size 864x576 with 1 Axes>"
            ]
          },
          "metadata": {}
        }
      ]
    },
    {
      "cell_type": "code",
      "metadata": {
        "id": "C7loDMB6hDji",
        "colab": {
          "base_uri": "https://localhost:8080/",
          "height": 723
        },
        "outputId": "7dcfd666-c8c5-4b4e-d667-758b9ef3c072"
      },
      "source": [
        "pixel_size = data['img_details'][0].item()\n",
        "HC_label = data['img_details'][1].item()\n",
        "\n",
        "predictx = predicted\n",
        "predictx = predictx.astype(np.uint8)\n",
        "\n",
        "'''取橢圓擬合結果'''\n",
        "predict_contours, _= cv.findContours(predictx, cv.RETR_EXTERNAL, cv.CHAIN_APPROX_NONE)\n",
        "list_contours_pixels_num = list(map(lambda x: len(x), predict_contours))\n",
        "max_idx = list_contours_pixels_num.index(max(list_contours_pixels_num))\n",
        "predict_contour = predict_contours[max_idx]\n",
        "\n",
        "mask_ori = mask\n",
        "mask_ori = mask_ori.astype(np.uint8)\n",
        "mask_contours, hierarchy = cv.findContours(mask_ori, cv.RETR_EXTERNAL, cv.CHAIN_APPROX_NONE)\n",
        "\n",
        "mask_contour = mask_contours[0]\n",
        "\n",
        "distance_a = directed_hausdorff(predict_contour.reshape(-1,2), mask_contour.reshape(-1,2))\n",
        "distance_b = directed_hausdorff(mask_contour.reshape(-1,2), predict_contour.reshape(-1,2))\n",
        "HD = max(distance_a[0], distance_b[0])*pixel_size\n",
        "\n",
        "paper = np.zeros_like(predictx)\n",
        "paper = cv.cvtColor(paper,cv.COLOR_GRAY2RGB)\n",
        "cv.drawContours(paper,mask_contour,-1,(255,0,0),1) #紅色是答案\n",
        "# cv.drawContours(paper,predict_contour,-1,(0,255,0),1) #綠色是預測\n",
        "\n",
        "# ellipse = cv.fitEllipse(predict_contour)\n",
        "ellipsedirect = cv.fitEllipseDirect(predict_contour)\n",
        "\n",
        "\n",
        "# cv.ellipse(paper, ellipse, (0,0,255), 1) #藍色是橢圓擬合結果\n",
        "cv.ellipse(paper, ellipsedirect, (0,0,255), 1) #藍色是橢圓擬合結果\n",
        "\n",
        "imshow(paper)\n",
        "plt.title(f'ellipse fitting   HD:{HD:.3f}mm')\n",
        "plt.show()\n",
        "\n",
        "xc  = ellipsedirect[0][0]\n",
        "yc  = ellipsedirect[0][1]\n",
        "b   = ellipsedirect[1][0] / 2 * pixel_size\n",
        "a   = ellipsedirect[1][1] / 2 * pixel_size\n",
        "theta = math.radians((ellipsedirect[2] + 90)%180)\n",
        "\n",
        "predict_HC = 2 * np.pi * math.sqrt((math.pow(a, 2) + math.pow(b, 2))/2)\n",
        "predict_HC = predict_HC*4\n",
        "\n",
        "print(f'LABEL HC  : {HC_label:^10.3f}mm')\n",
        "print(f'PREDICT HC: {predict_HC:^10.3f}mm')\n",
        "print('---------------------------------------------')\n",
        "DF = HC_label - predict_HC\n",
        "ADF = abs(HC_label - predict_HC)\n",
        "print(f'Dice:{dice_score:^10.2f}%')\n",
        "print(f'HD :{HD:^10.2f}mm')\n",
        "print(f'DF :{DF:^10.2f}mm')\n",
        "print(f'ADF:{ADF:^10.2f}mm')"
      ],
      "execution_count": null,
      "outputs": [
        {
          "output_type": "display_data",
          "data": {
            "image/png": "[encoded data removed]",
            "text/plain": [
              "<Figure size 864x576 with 1 Axes>"
            ]
          },
          "metadata": {}
        },
        {
          "output_type": "stream",
          "name": "stdout",
          "text": [
            "LABEL HC  :  160.210  mm\n",
            "PREDICT HC:  111.263  mm\n",
            "---------------------------------------------\n",
            "Dice:  64.42   %\n",
            "HD :   5.06   mm\n",
            "DF :  48.95   mm\n",
            "ADF:  48.95   mm\n"
          ]
        }
      ]
    },
    {
      "cell_type": "markdown",
      "metadata": {
        "id": "mJMSo1l7Ba4F"
      },
      "source": [
        "**以下是挑戰賽**\n",
        "\n",
        "\n",
        "---\n",
        "\n"
      ]
    },
    {
      "cell_type": "code",
      "metadata": {
        "id": "fBeQ56AbmCI5"
      },
      "source": [
        "class FetalHCValidDataset(Dataset):\n",
        "    def __init__(self, dataset_dir, img_scale = None, transform = True):\n",
        "        dataset_dir = Path(dataset_dir) # 'drive/My Drive/HC_Dataset'\n",
        "        self.img_scale = img_scale\n",
        "        self.transform  = transform\n",
        "        self.data_details_frame = pd.read_csv(dataset_dir / 'validset' / 'validset.csv')\n",
        "        self.imgs_dir =  dataset_dir / 'validset' / 'imgs'\n",
        "\n",
        "    def __len__(self):\n",
        "        return len(self.data_details_frame)\n",
        "\n",
        "    def __getitem__(self, idx):\n",
        "        img_file = self.imgs_dir / self.data_details_frame.iloc[idx, 0]\n",
        "        img = imread(img_file)\n",
        "        pixel_size = self.data_details_frame.iloc[idx, 1]\n",
        "\n",
        "        sample = {'img' : img, 'img_name': img_file.name, 'pixel_size': pixel_size}\n",
        "\n",
        "        if self.transform == True:\n",
        "            sample = self.trans(sample)\n",
        "\n",
        "        return sample\n",
        "\n",
        "    def trans(self, sample):\n",
        "        if self.img_scale: #rescale會把255 -> 1\n",
        "            sample['img'] = rescale(sample['img'], scale=self.img_scale)\n",
        "        '''HW 轉 CHW 再轉乘 tensor'''\n",
        "        sample['img'] = torch.from_numpy(sample['img'][np.newaxis, :])\n",
        "        sample['pixel_size'] = torch.from_numpy(np.asarray(sample['pixel_size']))\n",
        "\n",
        "        return sample"
      ],
      "execution_count": null,
      "outputs": []
    },
    {
      "cell_type": "code",
      "metadata": {
        "colab": {
          "base_uri": "https://localhost:8080/",
          "height": 67,
          "referenced_widgets": [
            "703ecc39d68146109a6a683ae97e7afe",
            "959e9546dbf14c6da56258673630fa9b",
            "b5294d87052d44beb59876b01068fcdd",
            "74378490ace449359412404e5788638b",
            "6c4e98d3b72f4536a2e4baa554245323",
            "bc320dcf87804fcbbac261bf2fc80f22",
            "d2c2908c2cd146eb92f00aa3a1f88f5e",
            "967428c1079f4216a2ada68a67838536"
          ]
        },
        "id": "41cBbjxuv5i4",
        "outputId": "d5f9f089-e345-41fc-a28b-a80da19b8aeb"
      },
      "source": [
        "HC_Dataset_dir = 'drive/My Drive/HC_Dataset'\n",
        "validset =  FetalHCValidDataset(HC_Dataset_dir, img_scale = 0.25, transform = True)\n",
        "validloader = DataLoader(validset, batch_size=1, shuffle=False, num_workers=4, pin_memory=True)\n",
        "\n",
        "output_list = []\n",
        "for data in tqdm(validloader):\n",
        "    img = data['img'].squeeze().numpy()\n",
        "    img_name = data['img_name']\n",
        "    pixel_size = data['pixel_size']\n",
        "\n",
        "    device = torch.device('cuda' if torch.cuda.is_available() else 'cpu')\n",
        "    predicted = predict(img, device)\n",
        "\n",
        "    predict_result = predicted.astype('uint8')\n",
        "    predict_contours, _ = cv.findContours(predict_result, cv.RETR_EXTERNAL, cv.CHAIN_APPROX_NONE)\n",
        "    list_contours_pixels_num = list(map(lambda x: len(x), predict_contours))\n",
        "    max_idx = list_contours_pixels_num.index(max(list_contours_pixels_num))\n",
        "\n",
        "    ellipse = cv.fitEllipseDirect(predict_contours[max_idx])\n",
        "\n",
        "    xc, yc, b, a, theta = ellipse[0][0]*pixel_size, ellipse[0][1]*pixel_size, ellipse[1][0] / 2 *pixel_size, ellipse[1][1] / 2 *pixel_size, math.radians((ellipse[2] + 90)%180)\n",
        "    output_list.append(img_name + [xc.item()*4, yc.item()*4, a.item()*4, b.item()*4, theta])\n",
        "\n",
        "output_df = pd.DataFrame(np.array(output_list), columns=['filename', 'center_x_mm', 'center_y_mm', 'semi_axes_a_mm', 'semi_axes_b_mm', 'angle_rad'])\n",
        "output_df.to_csv('outputs.csv', index=False)\n"
      ],
      "execution_count": null,
      "outputs": [
        {
          "data": {
            "application/vnd.jupyter.widget-view+json": {
              "model_id": "703ecc39d68146109a6a683ae97e7afe",
              "version_major": 2,
              "version_minor": 0
            },
            "text/plain": [
              "HBox(children=(FloatProgress(value=0.0, max=335.0), HTML(value='')))"
            ]
          },
          "metadata": {
            "tags": []
          },
          "output_type": "display_data"
        },
        {
          "name": "stdout",
          "output_type": "stream",
          "text": [
            "\n"
          ]
        }
      ]
    },
    {
      "cell_type": "code",
      "metadata": {
        "id": "aaWpCTyHbTYG"
      },
      "source": [
        "valid_num = 33\n",
        "#8 12 33 118 126 274\n",
        "#97 177 179 313\n",
        "%matplotlib inline\n",
        "import matplotlib.pyplot as plt\n",
        "\n",
        "HC_Dataset_dir = 'drive/My Drive/HC_Dataset'\n",
        "\n",
        "validset =  FetalHCValidDataset(HC_Dataset_dir, img_scale = 0.25, transform = True)\n",
        "data = validset[valid_num]\n",
        "\n",
        "img = data['img'].squeeze().numpy()\n",
        "\n",
        "device = torch.device('cuda' if torch.cuda.is_available() else 'cpu')\n",
        "predicted = predict(img, device)\n",
        "predicted = predicted.astype(np.uint8)\n",
        "\n",
        "predict_contours, _= cv.findContours(predicted, cv.RETR_EXTERNAL, cv.CHAIN_APPROX_NONE)\n",
        "list_contours_pixels_num = list(map(lambda x: len(x), predict_contours))\n",
        "max_idx = list_contours_pixels_num.index(max(list_contours_pixels_num))\n",
        "predict_contour = predict_contours[max_idx]\n",
        "\n",
        "ellipsedirect = cv.fitEllipseDirect(predict_contour)\n",
        "\n",
        "paper = np.zeros_like(predicted)\n",
        "paper = cv.cvtColor(paper,cv.COLOR_GRAY2RGB)\n",
        "paper2 = np.zeros_like(paper)\n",
        "\n",
        "cv.drawContours(paper, predict_contour,-1,(0,255,0),1) #綠色是預測\n",
        "cv.ellipse(paper2, ellipsedirect, (255,255,0), 1) #黃色是橢圓擬合結果\n",
        "\n",
        "plt.figure(figsize = (20, 20))\n",
        "plt.subplot(1,4,1), plt.title('image'), plt.imshow(img, cmap= 'gray')\n",
        "plt.subplot(1,4,2), plt.title('predict'), plt.imshow(predicted, cmap= 'gray')\n",
        "plt.subplot(1,4,3), plt.title('contour'), plt.imshow(paper)\n",
        "plt.subplot(1,4,4), plt.title('ellipse fitting'), plt.imshow(paper2)\n",
        "\n",
        "plt.show()\n",
        "plt.close('all')\n"
      ],
      "execution_count": null,
      "outputs": []
    },
    {
      "cell_type": "code",
      "metadata": {
        "id": "h1kKrE-BSobo"
      },
      "source": [
        "dir_checkpoint  = 'drive/My Drive/HC_Dataset/Unet_checkpoints'\n",
        "HC_Dataset_dir = 'drive/My Drive/HC_Dataset'\n",
        "\n",
        "def predict(img, device, epoch):\n",
        "    net = UNet()\n",
        "    net.load_state_dict(torch.load(dir_checkpoint + f'/CP_epoch{epoch}.pth'))\n",
        "    net.to(device)\n",
        "\n",
        "    net.eval()\n",
        "\n",
        "    img = img.unsqueeze(0)\n",
        "    img = img.to(device=device, dtype=torch.float32)\n",
        "    with torch.no_grad():\n",
        "        predicted = net(img)\n",
        "        predicted = torch.sigmoid(predicted).squeeze().cpu().numpy()\n",
        "    return predicted>0.5"
      ],
      "execution_count": null,
      "outputs": []
    },
    {
      "cell_type": "code",
      "metadata": {
        "id": "ufUUlw9USeGj"
      },
      "source": [
        "''''valid 資料測試'''\n",
        "\n",
        "test_num = 33\n",
        "\n",
        "%matplotlib inline\n",
        "import matplotlib.pyplot as plt\n",
        "plt.style.use('seaborn-white')\n",
        "\n",
        "testset = FetalHCValidDataset(HC_Dataset_dir, img_scale = 0.25, transform = True)\n",
        "data = testset[test_num]\n",
        "\n",
        "img = data['img'] # tensor chw\n",
        "# mask = data['mask'].squeeze().numpy()\n",
        "\n",
        "plt.rcParams['figure.figsize'] = [12, 8]\n",
        "plt.imshow(img.squeeze().numpy(), cmap='gray')\n",
        "# plt.subplot(1,2,2), plt.imshow(mask, cmap='gray')\n",
        "plt.title('target')\n",
        "plt.show()\n",
        "plt.rcParams['figure.figsize'] = [5, 5]\n",
        "for i in range(11,41):\n",
        "    device = torch.device('cuda' if torch.cuda.is_available() else 'cpu')\n",
        "    predicted = predict(img, device, i)\n",
        "    plt.imshow(predicted, cmap='gray')\n",
        "    plt.title(f'predicted {i} eps')\n",
        "    plt.show()\n"
      ],
      "execution_count": null,
      "outputs": []
    }
  ]
}